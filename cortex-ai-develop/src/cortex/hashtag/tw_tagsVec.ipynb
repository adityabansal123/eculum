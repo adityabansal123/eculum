{
 "cells": [
  {
   "cell_type": "code",
   "execution_count": 1,
   "metadata": {
    "collapsed": true
   },
   "outputs": [],
   "source": [
    "import gensim.models.word2vec as w2v\n",
    "import os"
   ]
  },
  {
   "cell_type": "code",
   "execution_count": 2,
   "metadata": {
    "collapsed": true
   },
   "outputs": [],
   "source": [
    "vecs = []\n",
    "vecs_list = os.listdir(\"_data/trained\")\n",
    "\n",
    "for v in vecs_list:\n",
    "    vecs.append(w2v.Word2Vec.load(os.path.join(\"_data\", \"trained\", v)))"
   ]
  },
  {
   "cell_type": "code",
   "execution_count": 3,
   "metadata": {
    "collapsed": true
   },
   "outputs": [],
   "source": [
    "def get_words(words):\n",
    "    predict_words = []\n",
    "    for w in words:\n",
    "        for v in vecs:\n",
    "            try:\n",
    "                predict_words.extend(v.most_similar(w))\n",
    "            except:\n",
    "                pass\n",
    "    predict_words.sort(key=lambda x: x[1])\n",
    "    return predict_words[::-1][:10]"
   ]
  },
  {
   "cell_type": "code",
   "execution_count": 66,
   "metadata": {},
   "outputs": [
    {
     "data": {
      "text/plain": [
       "[('friday', 0.7047283053398132),\n",
       " ('gmt', 0.6798997521400452),\n",
       " ('mobikwik', 0.6739164590835571),\n",
       " ('lingoware', 0.6730311512947083),\n",
       " ('deepsleep', 0.6689197421073914),\n",
       " ('ladiesday', 0.6660736203193665),\n",
       " ('consultant', 0.6644144058227539),\n",
       " ('quiz', 0.6627060770988464),\n",
       " ('marked', 0.6619267463684082),\n",
       " ('factor', 0.6608335375785828)]"
      ]
     },
     "execution_count": 66,
     "metadata": {},
     "output_type": "execute_result"
    }
   ],
   "source": [
    "get_words(words = ['monday'])"
   ]
  },
  {
   "cell_type": "code",
   "execution_count": 21,
   "metadata": {},
   "outputs": [
    {
     "data": {
      "text/plain": [
       "[('com', 0.58814537525177),\n",
       " ('gmail', 0.524124801158905),\n",
       " ('gmail', 0.4994829297065735),\n",
       " ('yahoo', 0.49669137597084045),\n",
       " ('emailmarketing', 0.4354745149612427),\n",
       " ('invoice', 0.41496554017066956),\n",
       " ('inquires', 0.41392678022384644),\n",
       " ('watsapp', 0.41343432664871216),\n",
       " ('info', 0.41001906991004944),\n",
       " ('aprillaugh', 0.4088968336582184)]"
      ]
     },
     "execution_count": 21,
     "metadata": {},
     "output_type": "execute_result"
    }
   ],
   "source": [
    "get_words(words = ['email'])"
   ]
  },
  {
   "cell_type": "code",
   "execution_count": 11,
   "metadata": {
    "collapsed": true
   },
   "outputs": [],
   "source": [
    "from nltk import word_tokenize"
   ]
  },
  {
   "cell_type": "code",
   "execution_count": 16,
   "metadata": {},
   "outputs": [],
   "source": [
    "import nltk"
   ]
  },
  {
   "cell_type": "code",
   "execution_count": 14,
   "metadata": {},
   "outputs": [],
   "source": [
    "text = word_tokenize(\" Neill Rhubarb & Ginger Gin #giveaway tomorrow. All you need to do is FOLLOW and RT us for your chance to #win!\")"
   ]
  },
  {
   "cell_type": "code",
   "execution_count": 20,
   "metadata": {},
   "outputs": [
    {
     "data": {
      "text/plain": [
       "[('If', 'IN'),\n",
       " ('you', 'PRP'),\n",
       " ('need', 'VBP'),\n",
       " ('a', 'DT'),\n",
       " ('spot', 'NN'),\n",
       " ('of', 'IN'),\n",
       " ('#', '#'),\n",
       " ('MondayMotivation', 'NNP'),\n",
       " (',', ','),\n",
       " ('remember', 'VBP'),\n",
       " ('we', 'PRP'),\n",
       " (\"'ll\", 'MD'),\n",
       " ('be', 'VB'),\n",
       " ('drawing', 'VBG'),\n",
       " ('the', 'DT'),\n",
       " ('winner', 'NN'),\n",
       " ('for', 'IN'),\n",
       " ('our', 'PRP$'),\n",
       " ('Whitley', 'NNP'),\n",
       " ('Neill', 'NNP'),\n",
       " ('Rhubarb', 'NNP'),\n",
       " ('&', 'CC'),\n",
       " ('Ginger', 'NNP'),\n",
       " ('Gin', 'NNP'),\n",
       " ('#', '#'),\n",
       " ('giveaway', 'NN'),\n",
       " ('tomorrow', 'NN'),\n",
       " ('.', '.'),\n",
       " ('All', 'DT'),\n",
       " ('you', 'PRP'),\n",
       " ('need', 'VBP'),\n",
       " ('to', 'TO'),\n",
       " ('do', 'VB'),\n",
       " ('is', 'VBZ'),\n",
       " ('FOLLOW', 'NNP'),\n",
       " ('and', 'CC'),\n",
       " ('RT', 'NNP'),\n",
       " ('us', 'PRP'),\n",
       " ('for', 'IN'),\n",
       " ('your', 'PRP$'),\n",
       " ('chance', 'NN'),\n",
       " ('to', 'TO'),\n",
       " ('#', '#'),\n",
       " ('win', 'NN'),\n",
       " ('!', '.')]"
      ]
     },
     "execution_count": 20,
     "metadata": {},
     "output_type": "execute_result"
    }
   ],
   "source": [
    "nltk.pos_tag(text)"
   ]
  }
 ],
 "metadata": {
  "kernelspec": {
   "display_name": "Python 3",
   "language": "python",
   "name": "python3"
  },
  "language_info": {
   "codemirror_mode": {
    "name": "ipython",
    "version": 3
   },
   "file_extension": ".py",
   "mimetype": "text/x-python",
   "name": "python",
   "nbconvert_exporter": "python",
   "pygments_lexer": "ipython3",
   "version": "3.5.3"
  }
 },
 "nbformat": 4,
 "nbformat_minor": 2
}
