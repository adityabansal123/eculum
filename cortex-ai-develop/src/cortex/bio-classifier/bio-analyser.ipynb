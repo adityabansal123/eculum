{
 "cells": [
  {
   "cell_type": "code",
   "execution_count": 1,
   "metadata": {},
   "outputs": [
    {
     "name": "stdout",
     "output_type": "stream",
     "text": [
      "[nltk_data] Downloading package punkt to /home/paraz/nltk_data...\n",
      "[nltk_data]   Package punkt is already up-to-date!\n",
      "[nltk_data] Downloading package stopwords to /home/paraz/nltk_data...\n",
      "[nltk_data]   Unzipping corpora/stopwords.zip.\n"
     ]
    }
   ],
   "source": [
    "from collections import Counter\n",
    "import os\n",
    "from textblob import TextBlob as tb\n",
    "import math\n",
    "\n",
    "import nltk \n",
    "nltk.download(\"punkt\")\n",
    "nltk.download(\"stopwords\")\n",
    "\n",
    "from nltk.corpus import stopwords\n",
    "\n",
    "from nltk import word_tokenize\n",
    "import re"
   ]
  },
  {
   "cell_type": "code",
   "execution_count": 2,
   "metadata": {
    "collapsed": true
   },
   "outputs": [],
   "source": [
    "def tf(word, blob):\n",
    "    return blob.words.count(word) / len(blob.words)\n",
    "\n",
    "def n_containing(word, bloblist):\n",
    "    return sum(1 for blob in bloblist if word in blob.words)\n",
    "\n",
    "def idf(word, bloblist):\n",
    "    return math.log(len(bloblist) / (1 + n_containing(word, bloblist)))\n",
    "\n",
    "def tfidf(word, blob, bloblist):\n",
    "    return tf(word, blob) * idf(word, bloblist)"
   ]
  },
  {
   "cell_type": "code",
   "execution_count": 3,
   "metadata": {
    "collapsed": true
   },
   "outputs": [],
   "source": [
    "def clean_sentence(raw):\n",
    "    noise_words = []\n",
    "    stop_words = list(set(stopwords.words('english')))\n",
    "    URL_REGEX = r\"\"\"(?i)\\b((?:[a-z][\\w-]+:(?:/{1,3}|[a-z0-9%])|www\\d{0,3}[.]|[a-z0-9.\\-]+[.][a-z]{2,4}/)(?:[^\\s()<>]+|\\(([^\\s()<>]+|(\\([^\\s()<>]+\\)))*\\))+(?:\\(([^\\s()<>]+|(\\([^\\s()<>]+\\)))*\\)|[^\\s`!()\\[\\]{};:'\".,<>?<>\"\"'']))\"\"\"\n",
    "    raw = re.sub(URL_REGEX, '', raw, flags=re.MULTILINE)\n",
    "    for n in noise_words:\n",
    "        clean = raw.replace(n, \" \")\n",
    "    clean = re.sub(\"[^a-zA-Z]\",\" \", raw)\n",
    "    clean = clean.lower()\n",
    "    words = clean.split()\n",
    "    stop_words = list(set(stopwords.words('english')))\n",
    "    words = [w for w in words if w not in stop_words]\n",
    "    return \" \".join(words)"
   ]
  },
  {
   "cell_type": "code",
   "execution_count": 4,
   "metadata": {
    "collapsed": true
   },
   "outputs": [],
   "source": [
    "path = \"_data/unlabled/\"\n",
    "files = os.listdir(path)\n",
    "\n",
    "all_text = \"\"\n",
    "\n",
    "for i in files:\n",
    "    with open(path+i) as f:\n",
    "        all_text+=clean_sentence(f.read())"
   ]
  },
  {
   "cell_type": "code",
   "execution_count": 5,
   "metadata": {},
   "outputs": [
    {
     "data": {
      "text/plain": [
       "3769911"
      ]
     },
     "execution_count": 5,
     "metadata": {},
     "output_type": "execute_result"
    }
   ],
   "source": [
    "len(all_text)"
   ]
  },
  {
   "cell_type": "code",
   "execution_count": 70,
   "metadata": {},
   "outputs": [
    {
     "data": {
      "text/plain": [
       "{'bhabha': 'NN',\n",
       " 'black': 'JJ',\n",
       " 'einstein': 'NN',\n",
       " 'fabulous': 'JJ',\n",
       " 'hole': 'NN',\n",
       " 'homi': 'NN',\n",
       " 'india': 'NN',\n",
       " 'japanese': 'JJ',\n",
       " 'nobel': 'JJ',\n",
       " 'rare': 'JJ',\n",
       " 'wheeler': 'NN',\n",
       " 'woods': 'NNS'}"
      ]
     },
     "execution_count": 70,
     "metadata": {},
     "output_type": "execute_result"
    }
   ],
   "source": [
    "document = tb(all_text[:1000])\n",
    "document1 = tb(clean_sentence(\"Fabulous rare pic of Einstein, Yukawa(1st Japanese Nobel), Wheeler (who coined black hole)&India's own Homi Bhabha on a walk in the woods.\"))\n",
    "\n",
    "document1.tags\n",
    "\n",
    "pos_dict = {}\n",
    "for i in document1.tags:\n",
    "    if i[1] in ['JJ', 'NN', 'JJR', 'NNS', 'NNP', 'NNPS'] and len(i[0]) > 3:\n",
    "        pos_dict[i[0]] = i[1]\n",
    "pos_dict            "
   ]
  },
  {
   "cell_type": "code",
   "execution_count": 81,
   "metadata": {},
   "outputs": [
    {
     "name": "stdout",
     "output_type": "stream",
     "text": [
      "black\n",
      "nobel\n",
      "fabulous\n",
      "japanese\n",
      "rare\n",
      "homi\n",
      "einstein\n",
      "india\n",
      "hole\n",
      "wheeler\n",
      "bhabha\n",
      "woods\n"
     ]
    }
   ],
   "source": [
    "bloblist  = [document1]\n",
    "for i, blob in enumerate([document1]):\n",
    "    scores = {word: tfidf(word, blob, bloblist) for word in blob.words}\n",
    "    sorted_words = sorted(scores.items(), key=lambda x: x[1], reverse=True)\n",
    "    results = []\n",
    "    for word, score in sorted_words:\n",
    "        if word in pos_dict.keys():\n",
    "            results.append((word, pos_dict[word]))\n",
    "    results.sort(key=lambda x: x[1])\n",
    "    for i in results:\n",
    "        print(i[0])"
   ]
  },
  {
   "cell_type": "code",
   "execution_count": null,
   "metadata": {
    "collapsed": true
   },
   "outputs": [],
   "source": []
  }
 ],
 "metadata": {
  "kernelspec": {
   "display_name": "Python 3",
   "language": "python",
   "name": "python3"
  },
  "language_info": {
   "codemirror_mode": {
    "name": "ipython",
    "version": 3
   },
   "file_extension": ".py",
   "mimetype": "text/x-python",
   "name": "python",
   "nbconvert_exporter": "python",
   "pygments_lexer": "ipython3",
   "version": "3.5.3"
  }
 },
 "nbformat": 4,
 "nbformat_minor": 2
}
